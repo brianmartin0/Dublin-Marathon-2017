{
 "cells": [
  {
   "cell_type": "code",
   "execution_count": 1,
   "metadata": {},
   "outputs": [
    {
     "name": "stderr",
     "output_type": "stream",
     "text": [
      "C:\\ProgramData\\Anaconda3\\lib\\site-packages\\bs4\\__init__.py:181: UserWarning: No parser was explicitly specified, so I'm using the best available HTML parser for this system (\"lxml\"). This usually isn't a problem, but if you run this code on another system, or in a different virtual environment, it may use a different parser and behave differently.\n",
      "\n",
      "The code that caused this warning is on line 193 of the file C:\\ProgramData\\Anaconda3\\lib\\runpy.py. To get rid of this warning, change code that looks like this:\n",
      "\n",
      " BeautifulSoup(YOUR_MARKUP})\n",
      "\n",
      "to this:\n",
      "\n",
      " BeautifulSoup(YOUR_MARKUP, \"lxml\")\n",
      "\n",
      "  markup_type=markup_type))\n"
     ]
    }
   ],
   "source": [
    "# adds each page from url below to the data dictionary\n",
    "\n",
    "# change these parameters as needed\n",
    "yearx = '2017'\n",
    "url = \"http://tdleventservices.co.uk/race-results.php?event=2788&page=\"\n",
    "start = 1\n",
    "end = 160\n",
    "\n",
    "\n",
    "import pandas as pd\n",
    "import requests\n",
    "from bs4 import BeautifulSoup\n",
    "\n",
    "data = {\n",
    "    'Year' : [],\n",
    "    'Race Number' : [],\n",
    "    'First Name' : [],\n",
    "    'Last Name' : [],\n",
    "    'Gender' : [],\n",
    "    'Gender Position' : [],\n",
    "    'Category' : [],\n",
    "    'Category Position' : [],\n",
    "    'Club' : [],\n",
    "    'Team' : [],\n",
    "    '10k' : [],\n",
    "    'Stage Position' : [],\n",
    "    'Halfway' : [],\n",
    "    'Stage Position2' : [],\n",
    "    '30k' : [],\n",
    "    'Stage Position3' : [],\n",
    "    'Gun Time' : [],\n",
    "    'Overall Position' : [],\n",
    "    'Chip Time' : [],\n",
    "    'Chip Position' : []\n",
    "}\n",
    "\n",
    "\n",
    "while start < end:\n",
    "    try:\n",
    "        nxt = url+str(start)\n",
    "        r = requests.get(nxt)\n",
    "        soup = BeautifulSoup(r.content)\n",
    "        table = soup.find('table', id='mytable1')\n",
    "        rows = table.find_all('tr')[1:]\n",
    "        for tr in rows:\n",
    "            cols = tr.find_all('td')\n",
    "            data['Year'].append( yearx )\n",
    "            data['Race Number'].append( cols[0].text.strip() )\n",
    "            data['First Name'].append( cols[1].text.strip() )\n",
    "            data['Last Name'].append( cols[2].text.strip() )\n",
    "            data['Gender'].append( cols[3].text.strip() )\n",
    "            data['Gender Position'].append( cols[4].text.strip() )\n",
    "            data['Category'].append( cols[5].text.strip() )\n",
    "            data['Category Position'].append( cols[6].text.strip() )\n",
    "            data['Club'].append( cols[7].text.strip() )\n",
    "            data['Team'].append( cols[8].text.strip() )\n",
    "            data['10k'].append( cols[9].text.strip() )\n",
    "            data['Stage Position'].append( cols[10].text.strip() )\n",
    "            data['Halfway'].append( cols[11].text.strip() )            \n",
    "            data['Stage Position2'].append( cols[12].text.strip() )\n",
    "            data['30k'].append( cols[13].text.strip() )\n",
    "            data['Stage Position3'].append( cols[14].text.strip() )\n",
    "            data['Gun Time'].append( cols[15].text.strip() )            \n",
    "            data['Overall Position'].append( cols[16].text.strip() )            \n",
    "            data['Chip Time'].append( cols[17].text.strip() )            \n",
    "            data['Chip Position'].append( cols[18].text.strip() )            \n",
    "\n",
    "    except Exception as e:\n",
    "        print(e)\n",
    "        break\n",
    "    start += 1"
   ]
  },
  {
   "cell_type": "code",
   "execution_count": 2,
   "metadata": {
    "collapsed": true
   },
   "outputs": [],
   "source": [
    "# converts to a dataframe and exports to csv\n",
    "raceData = pd.DataFrame( data )\n",
    "raceData.to_csv(\"2017MarathonResults.csv\")"
   ]
  }
 ],
 "metadata": {
  "kernelspec": {
   "display_name": "Python 3",
   "language": "python",
   "name": "python3"
  },
  "language_info": {
   "codemirror_mode": {
    "name": "ipython",
    "version": 3
   },
   "file_extension": ".py",
   "mimetype": "text/x-python",
   "name": "python",
   "nbconvert_exporter": "python",
   "pygments_lexer": "ipython3",
   "version": "3.6.1"
  }
 },
 "nbformat": 4,
 "nbformat_minor": 2
}
